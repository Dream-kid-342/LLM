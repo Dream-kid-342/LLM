{
 "cells": [
  {
   "cell_type": "code",
   "execution_count": 2,
   "id": "d097a76f",
   "metadata": {},
   "outputs": [
    {
     "name": "stderr",
     "output_type": "stream",
     "text": [
      "\n",
      "[notice] A new release of pip is available: 25.0.1 -> 25.1.1\n",
      "[notice] To update, run: python.exe -m pip install --upgrade pip\n"
     ]
    },
    {
     "name": "stdout",
     "output_type": "stream",
     "text": [
      "Requirement already satisfied: transformers in c:\\users\\admin\\desktop\\llm\\env\\lib\\site-packages (4.52.3)\n",
      "Requirement already satisfied: filelock in c:\\users\\admin\\desktop\\llm\\env\\lib\\site-packages (from transformers) (3.18.0)\n",
      "Requirement already satisfied: huggingface-hub<1.0,>=0.30.0 in c:\\users\\admin\\desktop\\llm\\env\\lib\\site-packages (from transformers) (0.32.0)\n",
      "Requirement already satisfied: numpy>=1.17 in c:\\users\\admin\\desktop\\llm\\env\\lib\\site-packages (from transformers) (2.2.6)\n",
      "Requirement already satisfied: packaging>=20.0 in c:\\users\\admin\\desktop\\llm\\env\\lib\\site-packages (from transformers) (25.0)\n",
      "Requirement already satisfied: pyyaml>=5.1 in c:\\users\\admin\\desktop\\llm\\env\\lib\\site-packages (from transformers) (6.0.2)\n",
      "Requirement already satisfied: regex!=2019.12.17 in c:\\users\\admin\\desktop\\llm\\env\\lib\\site-packages (from transformers) (2024.11.6)\n",
      "Requirement already satisfied: requests in c:\\users\\admin\\desktop\\llm\\env\\lib\\site-packages (from transformers) (2.32.3)\n",
      "Requirement already satisfied: tokenizers<0.22,>=0.21 in c:\\users\\admin\\desktop\\llm\\env\\lib\\site-packages (from transformers) (0.21.1)\n",
      "Requirement already satisfied: safetensors>=0.4.3 in c:\\users\\admin\\desktop\\llm\\env\\lib\\site-packages (from transformers) (0.5.3)\n",
      "Requirement already satisfied: tqdm>=4.27 in c:\\users\\admin\\desktop\\llm\\env\\lib\\site-packages (from transformers) (4.67.1)\n",
      "Requirement already satisfied: fsspec>=2023.5.0 in c:\\users\\admin\\desktop\\llm\\env\\lib\\site-packages (from huggingface-hub<1.0,>=0.30.0->transformers) (2025.3.0)\n",
      "Requirement already satisfied: typing-extensions>=3.7.4.3 in c:\\users\\admin\\desktop\\llm\\env\\lib\\site-packages (from huggingface-hub<1.0,>=0.30.0->transformers) (4.13.2)\n",
      "Requirement already satisfied: colorama in c:\\users\\admin\\desktop\\llm\\env\\lib\\site-packages (from tqdm>=4.27->transformers) (0.4.6)\n",
      "Requirement already satisfied: charset-normalizer<4,>=2 in c:\\users\\admin\\desktop\\llm\\env\\lib\\site-packages (from requests->transformers) (3.4.2)\n",
      "Requirement already satisfied: idna<4,>=2.5 in c:\\users\\admin\\desktop\\llm\\env\\lib\\site-packages (from requests->transformers) (3.10)\n",
      "Requirement already satisfied: urllib3<3,>=1.21.1 in c:\\users\\admin\\desktop\\llm\\env\\lib\\site-packages (from requests->transformers) (2.4.0)\n",
      "Requirement already satisfied: certifi>=2017.4.17 in c:\\users\\admin\\desktop\\llm\\env\\lib\\site-packages (from requests->transformers) (2025.4.26)\n",
      "Note: you may need to restart the kernel to use updated packages.\n"
     ]
    },
    {
     "name": "stderr",
     "output_type": "stream",
     "text": [
      "c:\\Users\\ADMIN\\Desktop\\LLM\\env\\Lib\\site-packages\\tqdm\\auto.py:21: TqdmWarning: IProgress not found. Please update jupyter and ipywidgets. See https://ipywidgets.readthedocs.io/en/stable/user_install.html\n",
      "  from .autonotebook import tqdm as notebook_tqdm\n"
     ]
    }
   ],
   "source": [
    "%pip install transformers\n",
    "\n",
    "from tqdm.notebook import tqdm as notebook_tqdm\n",
    "\n",
    "import torch\n",
    "from transformers import AutoTokenizer, AutoModelForSeq2SeqLM\n",
    "\n",
    "class DrawingToBIMLLM:\n",
    "    \"\"\"\n",
    "    LLM model for converting architectural drawings (PDF/CAD text descriptions) into structured building data.\n",
    "    This is a conceptual scaffold for a production-ready Drawing-to-BIM solution.\n",
    "    \"\"\"\n",
    "\n",
    "    def __init__(self, model_name=\"google/flan-t5-large\"):\n",
    "        self.tokenizer = AutoTokenizer.from_pretrained(model_name)\n",
    "        self.model = AutoModelForSeq2SeqLM.from_pretrained(model_name)\n",
    "\n",
    "    def convert_drawing_to_bim(self, drawing_description: str) -> str:\n",
    "        \"\"\"\n",
    "        Converts a textual description of an architectural drawing into a structured BIM-like JSON.\n",
    "        Args:\n",
    "            drawing_description (str): Text extracted from a drawing (OCR, CAD, etc.)\n",
    "        Returns:\n",
    "            str: Structured building data (e.g., JSON or IFC-like format)\n",
    "        \"\"\"\n",
    "        prompt = (\n",
    "            \"Extract building elements (walls, rooms, doors, windows, structural features) \"\n",
    "            \"from the following architectural drawing description and output as structured JSON:\\n\"\n",
    "            f\"{drawing_description}\\n\"\n",
    "            \"JSON:\"\n",
    "        )\n",
    "        inputs = self.tokenizer(prompt, return_tensors=\"pt\", truncation=True)\n",
    "        outputs = self.model.generate(**inputs, max_new_tokens=512)\n",
    "        result = self.tokenizer.decode(outputs[0], skip_special_tokens=True)\n",
    "        return result\n",
    "\n",
    "# Example usage:\n",
    "# llm = DrawingToBIMLLM()\n",
    "# drawing_text = \"Ground floor plan: 2 rooms, each 4x5m, separated by a wall. Door on north wall, window on east wall.\"\n",
    "# bim_json = llm.convert_drawing_to_bim(drawing_text)\n",
    "# print(bim_json)"
   ]
  }
 ],
 "metadata": {
  "kernelspec": {
   "display_name": "env",
   "language": "python",
   "name": "python3"
  },
  "language_info": {
   "codemirror_mode": {
    "name": "ipython",
    "version": 3
   },
   "file_extension": ".py",
   "mimetype": "text/x-python",
   "name": "python",
   "nbconvert_exporter": "python",
   "pygments_lexer": "ipython3",
   "version": "3.13.3"
  }
 },
 "nbformat": 4,
 "nbformat_minor": 5
}
